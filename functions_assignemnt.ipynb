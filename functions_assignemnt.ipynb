{
  "nbformat": 4,
  "nbformat_minor": 0,
  "metadata": {
    "colab": {
      "provenance": []
    },
    "kernelspec": {
      "name": "python3",
      "display_name": "Python 3"
    },
    "language_info": {
      "name": "python"
    }
  },
  "cells": [
    {
      "cell_type": "code",
      "execution_count": null,
      "metadata": {
        "id": "8gENiSv5TNqh"
      },
      "outputs": [],
      "source": [
        "# This is first question\n",
        "\n",
        "'''\n",
        "this is your answer\n",
        "\n",
        "\n",
        "\n",
        "\n",
        "'''"
      ]
    },
    {
      "cell_type": "code",
      "source": [
        "#01\n",
        "def sum_of_evn_number(number):\n",
        "  return sum(num for num in numbers if num % 2 == 0)"
      ],
      "metadata": {
        "id": "80DrUNlzTa5V"
      },
      "execution_count": null,
      "outputs": []
    },
    {
      "cell_type": "markdown",
      "source": [],
      "metadata": {
        "id": "i6aux2PKTVD1"
      }
    }
  ]
}